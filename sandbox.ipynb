{
 "cells": [
  {
   "cell_type": "markdown",
   "metadata": {},
   "source": [
    "## Imports"
   ]
  },
  {
   "cell_type": "code",
   "execution_count": 1,
   "metadata": {},
   "outputs": [
    {
     "name": "stdout",
     "output_type": "stream",
     "text": [
      "                                       advertiser_id platform  location_at  \\\n",
      "0  1b98528bc3fed221ce07f41d7e81975d7a6b35c74b4ffa...     AAID   1721772357   \n",
      "1  f797e3ff74e5c9f82743a0f8a4b843525942c985565009...     AAID   1721763911   \n",
      "2  feb7505a3ff4667baec4cfcc87d2c46aa095d469e590ab...     AAID   1721756658   \n",
      "3  6d6bfce4b082b74a64dc784ff43663db1b7cb0619d74f2...     AAID   1721702731   \n",
      "4  6d6bfce4b082b74a64dc784ff43663db1b7cb0619d74f2...     AAID   1721710690   \n",
      "\n",
      "         local_location_at   latitude   longitude    altitude  \\\n",
      "0  2024-07-23 15:05:57.882  34.159170 -118.155624  250.000000   \n",
      "1  2024-07-23 12:45:11.354  34.062661 -117.763773  227.100006   \n",
      "2  2024-07-23 10:44:18.000  34.106660 -117.820420  245.647278   \n",
      "3  2024-07-22 19:45:31.564  34.025030 -117.959029   64.000000   \n",
      "4  2024-07-22 21:58:10.659  34.025538 -117.959565   62.800003   \n",
      "\n",
      "   horizontal_accuracy  vertical_accuracy     heading     speed  \\\n",
      "0                  5.1           1.053280   26.634436  1.330815   \n",
      "1                100.0         100.000000         NaN       NaN   \n",
      "2                  3.2           3.000000  289.600000  1.780000   \n",
      "3                 16.1          13.537421         NaN  0.077032   \n",
      "4                128.9         100.000000         NaN       NaN   \n",
      "\n",
      "           ipv_4 final_country iso_region     geohash  \\\n",
      "0  172.56.235.68            US      US-CA  9q5fr63xw6   \n",
      "1  76.86.252.130            US      US-CA  9qh3b0zj3h   \n",
      "2   172.56.177.4            US      US-CA  9qh4nbvv9n   \n",
      "3  107.127.56.36            US      US-CA  9qh1ef0f5m   \n",
      "4  107.127.56.36            US      US-CA  9qh1ef0mnu   \n",
      "\n",
      "                                          user_agent  background  app_id  \n",
      "0  Mozilla/5.0 (Linux; Android 14; SM-A236U1 Buil...           1     813  \n",
      "1  Mozilla/5.0 (Linux; Android 14; SM-A236U Build...           1     813  \n",
      "2  Mozilla/5.0 (Linux; Android 10; SM-G965U Build...           1     783  \n",
      "3  Mozilla/5.0 (Linux; Android 14; SM-S911U Build...           1     813  \n",
      "4  Mozilla/5.0 (Linux; Android 14; SM-S911U Build...           1     813  \n"
     ]
    }
   ],
   "source": [
    "import numpy as np\n",
    "import pandas as pd\n",
    "from read_data import read_sample"
   ]
  },
  {
   "cell_type": "code",
   "execution_count": 6,
   "metadata": {},
   "outputs": [
    {
     "data": {
      "text/plain": [
       "11313"
      ]
     },
     "execution_count": 6,
     "metadata": {},
     "output_type": "execute_result"
    }
   ],
   "source": [
    "df = read_sample(\"sample_data_raw/part-00000-1489667c-4e58-4dfa-a7e3-97651d708182-c000.snappy.parquet\")"
   ]
  },
  {
   "cell_type": "code",
   "execution_count": 18,
   "metadata": {},
   "outputs": [],
   "source": [
    "users_data = {}\n",
    "for i in range(df.shape[0]):\n",
    "    if (m:=df[\"advertiser_id\"][i]) not in users_data:\n",
    "        users_data[m] = []\n",
    "    users_data[m].append(df.iloc[i])"
   ]
  },
  {
   "cell_type": "code",
   "execution_count": 19,
   "metadata": {},
   "outputs": [
    {
     "name": "stdout",
     "output_type": "stream",
     "text": [
      "1.0\n"
     ]
    }
   ],
   "source": [
    "users_data\n",
    "len_users_data = {x:len(users_data[x]) for x in users_data.keys()}\n",
    "print(np.median(list(len_users_data.values())))"
   ]
  },
  {
   "cell_type": "code",
   "execution_count": 10,
   "metadata": {},
   "outputs": [
    {
     "data": {
      "text/plain": [
       "advertiser_id          f797e3ff74e5c9f82743a0f8a4b843525942c985565009...\n",
       "platform                                                            AAID\n",
       "location_at                                                   1721763911\n",
       "local_location_at                                2024-07-23 12:45:11.354\n",
       "latitude                                                       34.062661\n",
       "longitude                                                    -117.763773\n",
       "altitude                                                      227.100006\n",
       "horizontal_accuracy                                                100.0\n",
       "vertical_accuracy                                                  100.0\n",
       "heading                                                              NaN\n",
       "speed                                                                NaN\n",
       "ipv_4                                                      76.86.252.130\n",
       "final_country                                                         US\n",
       "iso_region                                                         US-CA\n",
       "geohash                                                       9qh3b0zj3h\n",
       "user_agent             Mozilla/5.0 (Linux; Android 14; SM-A236U Build...\n",
       "background                                                             1\n",
       "app_id                                                               813\n",
       "Name: 1, dtype: object"
      ]
     },
     "execution_count": 10,
     "metadata": {},
     "output_type": "execute_result"
    }
   ],
   "source": [
    "users_data['76.86.252.130'][0]"
   ]
  },
  {
   "cell_type": "code",
   "execution_count": 11,
   "metadata": {},
   "outputs": [
    {
     "data": {
      "text/plain": [
       "Index(['advertiser_id', 'platform', 'location_at', 'local_location_at',\n",
       "       'latitude', 'longitude', 'altitude', 'horizontal_accuracy',\n",
       "       'vertical_accuracy', 'heading', 'speed', 'ipv_4', 'final_country',\n",
       "       'iso_region', 'geohash', 'user_agent', 'background', 'app_id'],\n",
       "      dtype='object')"
      ]
     },
     "execution_count": 11,
     "metadata": {},
     "output_type": "execute_result"
    }
   ],
   "source": [
    "df.columns"
   ]
  },
  {
   "cell_type": "code",
   "execution_count": null,
   "metadata": {},
   "outputs": [],
   "source": []
  }
 ],
 "metadata": {
  "kernelspec": {
   "display_name": "Python 3",
   "language": "python",
   "name": "python3"
  },
  "language_info": {
   "codemirror_mode": {
    "name": "ipython",
    "version": 3
   },
   "file_extension": ".py",
   "mimetype": "text/x-python",
   "name": "python",
   "nbconvert_exporter": "python",
   "pygments_lexer": "ipython3",
   "version": "3.11.0"
  }
 },
 "nbformat": 4,
 "nbformat_minor": 2
}
